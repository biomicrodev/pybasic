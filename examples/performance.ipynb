{
 "cells": [
  {
   "cell_type": "code",
   "execution_count": 1,
   "metadata": {
    "collapsed": true,
    "pycharm": {
     "name": "#%%\n"
    }
   },
   "outputs": [],
   "source": [
    "from pathlib import Path\n",
    "from typing import Tuple\n",
    "\n",
    "import numpy as np\n",
    "import numpy.typing as npt\n",
    "import skimage.transform\n",
    "import skimage.util\n",
    "from tifffile import tifffile\n",
    "\n",
    "from pybasic.basic import basic\n",
    "from pybasic.utils import viztrace\n",
    "\n",
    "working_size = 128\n",
    "images_path = Path(r'images/Cell_culture/Uncorrected/DAPI')"
   ]
  },
  {
   "cell_type": "code",
   "execution_count": 2,
   "outputs": [
    {
     "name": "stdout",
     "output_type": "stream",
     "text": [
      "read in images: 354.72 millisecond\n",
      "View cProfile profile with: tuna /home/titanium/PycharmProjects/pybasic/examples/logs/cprofile/unknown/run_1660323569.prof\n",
      "run: 4.14 second\n"
     ]
    }
   ],
   "source": [
    "from pybasic.utils import timed_ctx, profile\n",
    "\n",
    "\n",
    "def resize(a: npt.NDArray, shape: Tuple[int, ...]) -> npt.NDArray:\n",
    "    return skimage.transform.resize(a, shape, order=1, mode='symmetric')\n",
    "\n",
    "\n",
    "with timed_ctx('read in images', print):\n",
    "    images = [tifffile.imread(p) for p in images_path.iterdir()]\n",
    "    images = [resize(im, (working_size, working_size)) for im in images]\n",
    "    images = np.stack(images)\n",
    "    images = skimage.util.img_as_float(images)\n",
    "\n",
    "@profile()\n",
    "# @viztrace(min_duration=0.2)\n",
    "def run():\n",
    "    # compute\n",
    "    flatfield, darkfield = basic(images, compute_darkfield=False)\n",
    "\n",
    "\n",
    "with timed_ctx('run', print):\n",
    "    run()"
   ],
   "metadata": {
    "collapsed": false,
    "pycharm": {
     "name": "#%%\n"
    }
   }
  }
 ],
 "metadata": {
  "kernelspec": {
   "display_name": "Python 3",
   "language": "python",
   "name": "python3"
  },
  "language_info": {
   "codemirror_mode": {
    "name": "ipython",
    "version": 2
   },
   "file_extension": ".py",
   "mimetype": "text/x-python",
   "name": "python",
   "nbconvert_exporter": "python",
   "pygments_lexer": "ipython2",
   "version": "2.7.6"
  }
 },
 "nbformat": 4,
 "nbformat_minor": 0
}